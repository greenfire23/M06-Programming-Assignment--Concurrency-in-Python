{
 "cells": [
  {
   "cell_type": "code",
   "execution_count": 1,
   "id": "c6db241f",
   "metadata": {},
   "outputs": [],
   "source": [
    "# Write the current date as a string to the text file today.txt\n",
    "import datetime\n",
    "today = datetime.date.today()\n",
    "file_ptr = open('today.txt', 'w')\n",
    "file_ptr.write(str(today))\n",
    "file_ptr.close()"
   ]
  },
  {
   "cell_type": "code",
   "execution_count": 2,
   "id": "bccc908c",
   "metadata": {},
   "outputs": [],
   "source": [
    "# Read the text file today.txt into the string today_string\n",
    "file_ptr = open('today.txt', 'r')\n",
    "today_date = file_ptr.read()\n",
    "file_ptr.close()\n"
   ]
  },
  {
   "cell_type": "code",
   "execution_count": 3,
   "id": "8d53329e",
   "metadata": {},
   "outputs": [
    {
     "name": "stdout",
     "output_type": "stream",
     "text": [
      "Today is 2024-04-28\n"
     ]
    }
   ],
   "source": [
    "#  Parse the date from today_string\n",
    "today = datetime.datetime.strptime(today_date, '%Y-%m-%d').date()\n",
    "print('Today is', today)\n"
   ]
  },
  {
   "cell_type": "code",
   "execution_count": 4,
   "id": "ab03c741",
   "metadata": {},
   "outputs": [
    {
     "name": "stdout",
     "output_type": "stream",
     "text": [
      "Today's date and time is 2024-04-28 14:55:47.601410\n",
      "Today's date and time is 2024-04-28 14:55:48.263930\n",
      "Today's date and time is 2024-04-28 14:55:49.013864\n",
      "Completed\n"
     ]
    }
   ],
   "source": [
    "import multiprocessing\n",
    "from datetime import datetime\n",
    "import time\n",
    "import random\n",
    "\n",
    "\n",
    "def print_time():\n",
    "    now = datetime.now()\n",
    "    print(\"Today's date and time is {}\".format(now))\n",
    "    time.sleep(random.random())\n",
    "\n",
    "\n",
    "if __name__ == '__main__':\n",
    "    proc1 = multiprocessing.Process(target=print_time())\n",
    "    proc2 = multiprocessing.Process(target=print_time())\n",
    "    proc3 = multiprocessing.Process(target=print_time())\n",
    "    proc1.start()\n",
    "    proc2.start()\n",
    "    proc3.start()\n",
    "    proc1.join()\n",
    "    proc2.join()\n",
    "    proc3.join()\n",
    "\n",
    "    print('Completed')\n"
   ]
  },
  {
   "cell_type": "code",
   "execution_count": null,
   "id": "c6723f4f",
   "metadata": {},
   "outputs": [],
   "source": []
  }
 ],
 "metadata": {
  "kernelspec": {
   "display_name": "Python 3 (ipykernel)",
   "language": "python",
   "name": "python3"
  },
  "language_info": {
   "codemirror_mode": {
    "name": "ipython",
    "version": 3
   },
   "file_extension": ".py",
   "mimetype": "text/x-python",
   "name": "python",
   "nbconvert_exporter": "python",
   "pygments_lexer": "ipython3",
   "version": "3.11.7"
  }
 },
 "nbformat": 4,
 "nbformat_minor": 5
}
